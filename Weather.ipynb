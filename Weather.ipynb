{
 "cells": [
  {
   "cell_type": "code",
   "execution_count": 1,
   "metadata": {},
   "outputs": [
    {
     "name": "stdout",
     "output_type": "stream",
     "text": [
      "Index(['Formatted Date', 'Summary', 'Precip Type', 'Temperature (C)',\n",
      "       'Apparent Temperature (C)', 'Humidity', 'Wind Speed (km/h)',\n",
      "       'Wind Bearing (degrees)', 'Visibility (km)', 'Loud Cover',\n",
      "       'Pressure (millibars)', 'Daily Summary'],\n",
      "      dtype='object')\n",
      "Top 5 rows\n",
      "                  Formatted Date Precip Type  Temperature (C)  Humidity  \\\n",
      "0  2006-04-01 00:00:00.000 +0200        rain         9.472222      0.89   \n",
      "1  2006-04-01 01:00:00.000 +0200        rain         9.355556      0.86   \n",
      "2  2006-04-01 02:00:00.000 +0200        rain         9.377778      0.89   \n",
      "3  2006-04-01 03:00:00.000 +0200        rain         8.288889      0.83   \n",
      "4  2006-04-01 04:00:00.000 +0200        rain         8.755556      0.83   \n",
      "\n",
      "   Wind Speed (km/h)  Wind Bearing (degrees)  Pressure (millibars)  \n",
      "0            14.1197                   251.0               1015.13  \n",
      "1            14.2646                   259.0               1015.63  \n",
      "2             3.9284                   204.0               1015.94  \n",
      "3            14.1036                   269.0               1016.41  \n",
      "4            11.0446                   259.0               1016.51  \n",
      "\n",
      "Bottom 5 rows\n",
      "                      Formatted Date Precip Type  Temperature (C)  Humidity  \\\n",
      "96448  2016-09-09 19:00:00.000 +0200        rain        26.016667      0.43   \n",
      "96449  2016-09-09 20:00:00.000 +0200        rain        24.583333      0.48   \n",
      "96450  2016-09-09 21:00:00.000 +0200        rain        22.038889      0.56   \n",
      "96451  2016-09-09 22:00:00.000 +0200        rain        21.522222      0.60   \n",
      "96452  2016-09-09 23:00:00.000 +0200        rain        20.438889      0.61   \n",
      "\n",
      "       Wind Speed (km/h)  Wind Bearing (degrees)  Pressure (millibars)  \n",
      "96448            10.9963                    31.0               1014.36  \n",
      "96449            10.0947                    20.0               1015.16  \n",
      "96450             8.9838                    30.0               1015.66  \n",
      "96451            10.5294                    20.0               1015.95  \n",
      "96452             5.8765                    39.0               1016.16  \n"
     ]
    }
   ],
   "source": [
    "import pandas as pd\n",
    "\n",
    "TrainData = pd.read_csv(\"Desktop/weatherTest.csv\")\n",
    "print (TrainData.columns)\n",
    "\n",
    "TrainData = TrainData[['Formatted Date','Precip Type', 'Temperature (C)', 'Humidity', 'Wind Speed (km/h)', 'Wind Bearing (degrees)', 'Pressure (millibars)']]\n",
    "\n",
    "print(\"Top 5 rows\")\n",
    "print (TrainData.head())\n",
    "print ()\n",
    "print(\"Bottom 5 rows\")\n",
    "print (TrainData.tail())"
   ]
  },
  {
   "cell_type": "code",
   "execution_count": 2,
   "metadata": {},
   "outputs": [
    {
     "name": "stdout",
     "output_type": "stream",
     "text": [
      "Formatted Date             object\n",
      "Precip Type                object\n",
      "Temperature (C)           float64\n",
      "Humidity                  float64\n",
      "Wind Speed (km/h)         float64\n",
      "Wind Bearing (degrees)    float64\n",
      "Pressure (millibars)      float64\n",
      "dtype: object\n"
     ]
    }
   ],
   "source": [
    "print (TrainData.dtypes)"
   ]
  },
  {
   "cell_type": "code",
   "execution_count": 3,
   "metadata": {},
   "outputs": [
    {
     "name": "stdout",
     "output_type": "stream",
     "text": [
      "       Temperature (C)      Humidity  Wind Speed (km/h)  \\\n",
      "count     96453.000000  96453.000000       96453.000000   \n",
      "mean         11.932678      0.734899          10.810640   \n",
      "std           9.551546      0.195473           6.913571   \n",
      "min         -21.822222      0.000000           0.000000   \n",
      "25%           4.688889      0.600000           5.828200   \n",
      "50%          12.000000      0.780000           9.965900   \n",
      "75%          18.838889      0.890000          14.135800   \n",
      "max          39.905556      1.000000          63.852600   \n",
      "\n",
      "       Wind Bearing (degrees)  Pressure (millibars)  \n",
      "count            96453.000000          96453.000000  \n",
      "mean               187.509232           1003.235956  \n",
      "std                107.383428            116.969906  \n",
      "min                  0.000000              0.000000  \n",
      "25%                116.000000           1011.900000  \n",
      "50%                180.000000           1016.450000  \n",
      "75%                290.000000           1021.090000  \n",
      "max                359.000000           1046.380000  \n"
     ]
    }
   ],
   "source": [
    "print (TrainData.describe())"
   ]
  },
  {
   "cell_type": "code",
   "execution_count": 4,
   "metadata": {},
   "outputs": [
    {
     "name": "stdout",
     "output_type": "stream",
     "text": [
      "                        Temperature (C)  Humidity  Wind Speed (km/h)  \\\n",
      "Temperature (C)                1.000000 -0.632255           0.008957   \n",
      "Humidity                      -0.632255  1.000000          -0.224951   \n",
      "Wind Speed (km/h)              0.008957 -0.224951           1.000000   \n",
      "Wind Bearing (degrees)         0.029988  0.000735           0.103822   \n",
      "Pressure (millibars)          -0.005447  0.005454          -0.049263   \n",
      "\n",
      "                        Wind Bearing (degrees)  Pressure (millibars)  \n",
      "Temperature (C)                       0.029988             -0.005447  \n",
      "Humidity                              0.000735              0.005454  \n",
      "Wind Speed (km/h)                     0.103822             -0.049263  \n",
      "Wind Bearing (degrees)                1.000000             -0.011651  \n",
      "Pressure (millibars)                 -0.011651              1.000000  \n"
     ]
    }
   ],
   "source": [
    "print (TrainData.corr())"
   ]
  },
  {
   "cell_type": "code",
   "execution_count": 5,
   "metadata": {},
   "outputs": [
    {
     "data": {
      "text/plain": [
       "0        1015.13\n",
       "1        1015.63\n",
       "2        1015.94\n",
       "3        1016.41\n",
       "4        1016.51\n",
       "          ...   \n",
       "96448    1014.36\n",
       "96449    1015.16\n",
       "96450    1015.66\n",
       "96451    1015.95\n",
       "96452    1016.16\n",
       "Name: Pressure (millibars), Length: 96453, dtype: float64"
      ]
     },
     "execution_count": 5,
     "metadata": {},
     "output_type": "execute_result"
    }
   ],
   "source": [
    "# Data Wrangling\n",
    "\n",
    "# Step 1 - Missing values \n",
    "\n",
    "# Method 1 :- filling by mean\n",
    "import numpy as np\n",
    "\n",
    "TrainData['Temperature (C)'].replace(np.nan, TrainData['Temperature (C)'].mean())\n",
    "TrainData['Humidity'].replace(np.nan, TrainData['Humidity'].mean())\n",
    "TrainData['Wind Speed (km/h)'].replace(np.nan, TrainData['Wind Speed (km/h)'].mean())\n",
    "TrainData['Wind Bearing (degrees)'].replace(np.nan, TrainData['Wind Bearing (degrees)'].mean())\n",
    "TrainData['Pressure (millibars)'].replace(np.nan, TrainData['Pressure (millibars)'].mean()) \n",
    "\n",
    "# Method 2 :- Drop rows with missing values\n",
    "\n",
    "# TrainData.dropna(subset = ['Temperature (C)'], axis = 0, inplace = True\n"
   ]
  },
  {
   "cell_type": "code",
   "execution_count": 29,
   "metadata": {},
   "outputs": [
    {
     "name": "stdout",
     "output_type": "stream",
     "text": [
      "       Humidity  Wind Speed (km/h)\n",
      "0      0.793466           0.478633\n",
      "1      0.639992           0.499591\n",
      "2      0.793466          -0.995468\n",
      "3      0.486518           0.476304\n",
      "4      0.486518           0.033841\n",
      "...         ...                ...\n",
      "96448 -1.559803           0.026854\n",
      "96449 -1.304013          -0.103556\n",
      "96450 -0.894749          -0.264240\n",
      "96451 -0.690117          -0.040679\n",
      "96452 -0.638958          -0.713689\n",
      "\n",
      "[96453 rows x 2 columns]\n",
      "       Humidity  Wind Speed (km/h)\n",
      "0      0.585064           0.062386\n",
      "1      0.471899           0.065118\n",
      "2      0.585064          -0.129751\n",
      "3      0.358735           0.062082\n",
      "4      0.358735           0.004411\n",
      "...         ...                ...\n",
      "96448 -1.150124           0.003500\n",
      "96449 -0.961516          -0.013498\n",
      "96450 -0.659745          -0.034441\n",
      "96451 -0.508859          -0.005302\n",
      "96452 -0.471137          -0.093023\n",
      "\n",
      "[96453 rows x 2 columns]\n"
     ]
    }
   ],
   "source": [
    "# Standards units\n",
    "\n",
    "# Normalization Techniques\n",
    "\n",
    "# Method 1 - scaling everything from 0 to 1 \n",
    "\n",
    "print(TrainData[['Humidity','Wind Speed (km/h)']])\n",
    "\n",
    "TrainData['Humidity'] = TrainData['Humidity']/TrainData['Humidity'].max()\n",
    "TrainData['Wind Speed (km/h)'] = TrainData['Wind Speed (km/h)']/TrainData['Wind Speed (km/h)'].max()\n",
    "\n",
    "\n",
    "\n",
    "\n",
    "# Method 2 - Min-Max\n",
    "#TrainData['Humidity'] = (TrainData['Humidity'] - TrainData['Humidity'].min())/(TrainData['Humidity'].max() - TrainData['Humidity'].min())\n",
    "#TrainData['Wind Speed (km/h)'] = (TrainData['Wind Speed (km/h)'] - TrainData['Wind Speed (km/h)'].min())/(TrainData['Wind Speed (km/h)'].max() - TrainData['Wind Speed (km/h)'].min())\n",
    "\n",
    "\n",
    "# Method 3 - ZScore\n",
    "\n",
    "#TrainData['Humidity'] = (TrainData['Humidity'] - TrainData['Humidity'].mean())/(TrainData['Humidity'].std())\n",
    "#TrainData['Wind Speed (km/h)'] = (TrainData['Wind Speed (km/h)'] - TrainData['Wind Speed (km/h)'].mean())/(TrainData['Wind Speed (km/h)'].std())\n",
    "\n",
    "\n",
    "\n",
    "print(TrainData[['Humidity','Wind Speed (km/h)']])\n"
   ]
  },
  {
   "cell_type": "code",
   "execution_count": 49,
   "metadata": {},
   "outputs": [
    {
     "name": "stdout",
     "output_type": "stream",
     "text": [
      "rain    85224\n",
      "snow    10712\n",
      "Name: Precip Type, dtype: int64\n",
      "            Formatted Date                                                     \\\n",
      "                     count                                                sum   \n",
      "Precip Type                                                                     \n",
      "rain                 85224  2006-04-01 00:00:00.000 +02002006-04-01 01:00:...   \n",
      "snow                 10712  2006-12-13 02:00:00.000 +01002006-12-13 03:00:...   \n",
      "\n",
      "            Temperature (C)               Humidity               \\\n",
      "                      count           sum    count          sum   \n",
      "Precip Type                                                       \n",
      "rain                  85224  1.180607e+06    85224 -5207.823930   \n",
      "snow                  10712 -3.503772e+04    10712  5186.823505   \n",
      "\n",
      "            Wind Speed (km/h)             Wind Bearing (degrees)              \\\n",
      "                        count         sum                  count         sum   \n",
      "Precip Type                                                                    \n",
      "rain                    85224  258.005988                  85224  16117833.0   \n",
      "snow                    10712 -268.323652                  10712   1871968.0   \n",
      "\n",
      "            Pressure (millibars)                 year             month  \\\n",
      "                           count           sum  count        sum  count   \n",
      "Precip Type                                                               \n",
      "rain                       85224  8.545961e+07  85224  171387901  85224   \n",
      "snow                       10712  1.077860e+07  10712   21537410  10712   \n",
      "\n",
      "                       day            hour          \n",
      "                sum  count      sum  count     sum  \n",
      "Precip Type                                         \n",
      "rain         570187  85224  1335253  85224  990614  \n",
      "snow          54564  10712   171074  10712  112450  \n"
     ]
    }
   ],
   "source": [
    "# Data Bining\n",
    "#print (TrainData.columns)\n",
    "\n",
    "# Category data trial\n",
    "\n",
    "\n",
    "pd.get_dummies(TrainData['Precip Type'])\n",
    "\n",
    "#print (TrainData.loc[TrainData['Precip Type'] == 'snow'])\n",
    "\n",
    "#Check count of categories\n",
    "\n",
    "# Method 1 - using value_count\n",
    "\n",
    "print (TrainData['Precip Type'].value_counts())\n",
    "\n",
    "# Method 2 - groupby\n",
    "#print (TrainData.groupby('Precip Type').agg(['count', 'sum']))"
   ]
  },
  {
   "cell_type": "code",
   "execution_count": 54,
   "metadata": {},
   "outputs": [
    {
     "name": "stdout",
     "output_type": "stream",
     "text": [
      "  Precip Type  Temperature (C)  Humidity  Wind Speed (km/h)  \\\n",
      "0        rain        13.852989 -0.061107           0.003027   \n",
      "1        snow        -3.270885  0.484207          -0.025049   \n",
      "\n",
      "   Wind Bearing (degrees)  Pressure (millibars)         year     month  \\\n",
      "0              189.123170           1002.764548  2011.028595  6.690451   \n",
      "1              174.754294           1006.216970  2010.587192  5.093727   \n",
      "\n",
      "         day       hour  \n",
      "0  15.667570  11.623651  \n",
      "1  15.970314  10.497573  \n"
     ]
    }
   ],
   "source": [
    "# Box Plot\n",
    "\n",
    "#import seaborn as sns\n",
    "\n",
    "#sns.boxplot(x=\"Temperature (C)\", y=\"Humidity\", data=TrainData)\n",
    "\n",
    "\n",
    "df_group = TrainData.groupby(['Precip Type'],as_index=False).mean()\n",
    "print (df_group)"
   ]
  },
  {
   "cell_type": "code",
   "execution_count": 69,
   "metadata": {},
   "outputs": [
    {
     "ename": "ValueError",
     "evalue": "could not convert string to float: 'rain'",
     "output_type": "error",
     "traceback": [
      "\u001b[0;31m---------------------------------------------------------------------------\u001b[0m",
      "\u001b[0;31mValueError\u001b[0m                                Traceback (most recent call last)",
      "\u001b[0;32m<ipython-input-69-ef5ddd9ee0cd>\u001b[0m in \u001b[0;36m<module>\u001b[0;34m\u001b[0m\n\u001b[1;32m     11\u001b[0m \u001b[0mstats\u001b[0m\u001b[0;34m.\u001b[0m\u001b[0mf_oneway\u001b[0m\u001b[0;34m(\u001b[0m\u001b[0mgrouped_anova\u001b[0m\u001b[0;34m.\u001b[0m\u001b[0mget_group\u001b[0m\u001b[0;34m(\u001b[0m\u001b[0;34m'rain'\u001b[0m\u001b[0;34m)\u001b[0m\u001b[0;34m[\u001b[0m\u001b[0;34m'Temperature (C)'\u001b[0m\u001b[0;34m]\u001b[0m\u001b[0;34m,\u001b[0m\u001b[0mgrouped_anova\u001b[0m\u001b[0;34m.\u001b[0m\u001b[0mget_group\u001b[0m\u001b[0;34m(\u001b[0m\u001b[0;34m'snow'\u001b[0m\u001b[0;34m)\u001b[0m\u001b[0;34m[\u001b[0m\u001b[0;34m'Temperature (C)'\u001b[0m\u001b[0;34m]\u001b[0m\u001b[0;34m)\u001b[0m\u001b[0;34m\u001b[0m\u001b[0;34m\u001b[0m\u001b[0m\n\u001b[1;32m     12\u001b[0m \u001b[0;34m\u001b[0m\u001b[0m\n\u001b[0;32m---> 13\u001b[0;31m \u001b[0mF\u001b[0m\u001b[0;34m,\u001b[0m \u001b[0mp\u001b[0m \u001b[0;34m=\u001b[0m \u001b[0mstats\u001b[0m\u001b[0;34m.\u001b[0m\u001b[0mf_oneway\u001b[0m\u001b[0;34m(\u001b[0m\u001b[0mgrouped_anova\u001b[0m\u001b[0;34m[\u001b[0m\u001b[0;34m'Temperature (C)'\u001b[0m\u001b[0;34m]\u001b[0m\u001b[0;34m,\u001b[0m \u001b[0mgrouped_anova\u001b[0m\u001b[0;34m[\u001b[0m\u001b[0;34m'Precip Type'\u001b[0m\u001b[0;34m]\u001b[0m\u001b[0;34m)\u001b[0m\u001b[0;34m\u001b[0m\u001b[0;34m\u001b[0m\u001b[0m\n\u001b[0m",
      "\u001b[0;32m/opt/anaconda3/lib/python3.7/site-packages/scipy/stats/stats.py\u001b[0m in \u001b[0;36mf_oneway\u001b[0;34m(*args)\u001b[0m\n\u001b[1;32m   3321\u001b[0m \u001b[0;34m\u001b[0m\u001b[0m\n\u001b[1;32m   3322\u001b[0m     \"\"\"\n\u001b[0;32m-> 3323\u001b[0;31m     \u001b[0margs\u001b[0m \u001b[0;34m=\u001b[0m \u001b[0;34m[\u001b[0m\u001b[0mnp\u001b[0m\u001b[0;34m.\u001b[0m\u001b[0masarray\u001b[0m\u001b[0;34m(\u001b[0m\u001b[0marg\u001b[0m\u001b[0;34m,\u001b[0m \u001b[0mdtype\u001b[0m\u001b[0;34m=\u001b[0m\u001b[0mfloat\u001b[0m\u001b[0;34m)\u001b[0m \u001b[0;32mfor\u001b[0m \u001b[0marg\u001b[0m \u001b[0;32min\u001b[0m \u001b[0margs\u001b[0m\u001b[0;34m]\u001b[0m\u001b[0;34m\u001b[0m\u001b[0;34m\u001b[0m\u001b[0m\n\u001b[0m\u001b[1;32m   3324\u001b[0m     \u001b[0;31m# ANOVA on N groups, each in its own array\u001b[0m\u001b[0;34m\u001b[0m\u001b[0;34m\u001b[0m\u001b[0;34m\u001b[0m\u001b[0m\n\u001b[1;32m   3325\u001b[0m     \u001b[0mnum_groups\u001b[0m \u001b[0;34m=\u001b[0m \u001b[0mlen\u001b[0m\u001b[0;34m(\u001b[0m\u001b[0margs\u001b[0m\u001b[0;34m)\u001b[0m\u001b[0;34m\u001b[0m\u001b[0;34m\u001b[0m\u001b[0m\n",
      "\u001b[0;32m/opt/anaconda3/lib/python3.7/site-packages/scipy/stats/stats.py\u001b[0m in \u001b[0;36m<listcomp>\u001b[0;34m(.0)\u001b[0m\n\u001b[1;32m   3321\u001b[0m \u001b[0;34m\u001b[0m\u001b[0m\n\u001b[1;32m   3322\u001b[0m     \"\"\"\n\u001b[0;32m-> 3323\u001b[0;31m     \u001b[0margs\u001b[0m \u001b[0;34m=\u001b[0m \u001b[0;34m[\u001b[0m\u001b[0mnp\u001b[0m\u001b[0;34m.\u001b[0m\u001b[0masarray\u001b[0m\u001b[0;34m(\u001b[0m\u001b[0marg\u001b[0m\u001b[0;34m,\u001b[0m \u001b[0mdtype\u001b[0m\u001b[0;34m=\u001b[0m\u001b[0mfloat\u001b[0m\u001b[0;34m)\u001b[0m \u001b[0;32mfor\u001b[0m \u001b[0marg\u001b[0m \u001b[0;32min\u001b[0m \u001b[0margs\u001b[0m\u001b[0;34m]\u001b[0m\u001b[0;34m\u001b[0m\u001b[0;34m\u001b[0m\u001b[0m\n\u001b[0m\u001b[1;32m   3324\u001b[0m     \u001b[0;31m# ANOVA on N groups, each in its own array\u001b[0m\u001b[0;34m\u001b[0m\u001b[0;34m\u001b[0m\u001b[0;34m\u001b[0m\u001b[0m\n\u001b[1;32m   3325\u001b[0m     \u001b[0mnum_groups\u001b[0m \u001b[0;34m=\u001b[0m \u001b[0mlen\u001b[0m\u001b[0;34m(\u001b[0m\u001b[0margs\u001b[0m\u001b[0;34m)\u001b[0m\u001b[0;34m\u001b[0m\u001b[0;34m\u001b[0m\u001b[0m\n",
      "\u001b[0;32m/opt/anaconda3/lib/python3.7/site-packages/numpy/core/_asarray.py\u001b[0m in \u001b[0;36masarray\u001b[0;34m(a, dtype, order)\u001b[0m\n\u001b[1;32m     83\u001b[0m \u001b[0;34m\u001b[0m\u001b[0m\n\u001b[1;32m     84\u001b[0m     \"\"\"\n\u001b[0;32m---> 85\u001b[0;31m     \u001b[0;32mreturn\u001b[0m \u001b[0marray\u001b[0m\u001b[0;34m(\u001b[0m\u001b[0ma\u001b[0m\u001b[0;34m,\u001b[0m \u001b[0mdtype\u001b[0m\u001b[0;34m,\u001b[0m \u001b[0mcopy\u001b[0m\u001b[0;34m=\u001b[0m\u001b[0;32mFalse\u001b[0m\u001b[0;34m,\u001b[0m \u001b[0morder\u001b[0m\u001b[0;34m=\u001b[0m\u001b[0morder\u001b[0m\u001b[0;34m)\u001b[0m\u001b[0;34m\u001b[0m\u001b[0;34m\u001b[0m\u001b[0m\n\u001b[0m\u001b[1;32m     86\u001b[0m \u001b[0;34m\u001b[0m\u001b[0m\n\u001b[1;32m     87\u001b[0m \u001b[0;34m\u001b[0m\u001b[0m\n",
      "\u001b[0;31mValueError\u001b[0m: could not convert string to float: 'rain'"
     ]
    }
   ],
   "source": [
    "# AnoVA - Analysis of variance -> Calculate FScore and PValue\n",
    "\n",
    "# between rain and temperature\n",
    "\n",
    "from scipy import stats \n",
    "\n",
    "df_anova = TrainData[['Precip Type','Temperature (C)']]\n",
    "\n",
    "grouped_anova = df_anova.groupby(['Precip Type'])\n",
    "\n",
    "stats.f_oneway(grouped_anova.get_group('rain')['Temperature (C)'],grouped_anova.get_group('snow')['Temperature (C)'])\n",
    "\n",
    "F, p = stats.f_oneway(grouped_anova['Temperature (C)'], grouped_anova['Precip Type'])"
   ]
  },
  {
   "cell_type": "code",
   "execution_count": 6,
   "metadata": {
    "collapsed": true
   },
   "outputs": [
    {
     "data": {
      "image/png": "[encoded data removed]",
      "text/plain": [
       "<Figure size 432x288 with 1 Axes>"
      ]
     },
     "metadata": {
      "needs_background": "light"
     },
     "output_type": "display_data"
    }
   ],
   "source": [
    "\n",
    "import matplotlib.pyplot as plt\n",
    "\n",
    "x = TrainData['Temperature (C)']\n",
    "y = TrainData['Humidity']\n",
    "\n",
    "plt.scatter(x,y)\n",
    "plt.title('VS')\n",
    "plt.xlabel('Temperature')\n",
    "plt.ylabel('humidity')\n",
    "plt.show()"
   ]
  },
  {
   "cell_type": "code",
   "execution_count": 7,
   "metadata": {
    "collapsed": true
   },
   "outputs": [
    {
     "name": "stdout",
     "output_type": "stream",
     "text": [
      "Index(['Temperature (C)', 'Humidity', 'Wind Speed (km/h)',\n",
      "       'Wind Bearing (degrees)', 'Pressure (millibars)'],\n",
      "      dtype='object')\n"
     ]
    }
   ],
   "source": [
    "quantitative = TrainData.select_dtypes(include = [\"int64\",\"float64\"]).keys()\n",
    "print(quantitative)"
   ]
  },
  {
   "cell_type": "code",
   "execution_count": 8,
   "metadata": {
    "collapsed": true
   },
   "outputs": [
    {
     "name": "stdout",
     "output_type": "stream",
     "text": [
      "                      Formatted Date Precip Type  Temperature (C)  Humidity  \\\n",
      "0      2006-04-01 00:00:00.000 +0200        rain         9.472222      0.89   \n",
      "1      2006-04-01 01:00:00.000 +0200        rain         9.355556      0.86   \n",
      "2      2006-04-01 02:00:00.000 +0200        rain         9.377778      0.89   \n",
      "3      2006-04-01 03:00:00.000 +0200        rain         8.288889      0.83   \n",
      "4      2006-04-01 04:00:00.000 +0200        rain         8.755556      0.83   \n",
      "...                              ...         ...              ...       ...   \n",
      "96448  2016-09-09 19:00:00.000 +0200        rain        26.016667      0.43   \n",
      "96449  2016-09-09 20:00:00.000 +0200        rain        24.583333      0.48   \n",
      "96450  2016-09-09 21:00:00.000 +0200        rain        22.038889      0.56   \n",
      "96451  2016-09-09 22:00:00.000 +0200        rain        21.522222      0.60   \n",
      "96452  2016-09-09 23:00:00.000 +0200        rain        20.438889      0.61   \n",
      "\n",
      "       Wind Speed (km/h)  Wind Bearing (degrees)  Pressure (millibars)  \n",
      "0                14.1197                   251.0               1015.13  \n",
      "1                14.2646                   259.0               1015.63  \n",
      "2                 3.9284                   204.0               1015.94  \n",
      "3                14.1036                   269.0               1016.41  \n",
      "4                11.0446                   259.0               1016.51  \n",
      "...                  ...                     ...                   ...  \n",
      "96448            10.9963                    31.0               1014.36  \n",
      "96449            10.0947                    20.0               1015.16  \n",
      "96450             8.9838                    30.0               1015.66  \n",
      "96451            10.5294                    20.0               1015.95  \n",
      "96452             5.8765                    39.0               1016.16  \n",
      "\n",
      "[96453 rows x 7 columns]\n"
     ]
    }
   ],
   "source": [
    "data = TrainData\n",
    "print(data)"
   ]
  },
  {
   "cell_type": "code",
   "execution_count": 9,
   "metadata": {},
   "outputs": [],
   "source": [
    "\n",
    "import datetime as dt\n",
    "\n",
    "data['Date'] = pd.to_datetime(data['Formatted Date'], utc=True)\n",
    "\n",
    "data['year'] = data['Date'].dt.year\n",
    "data['month'] = data['Date'].dt.month\n",
    "data['day'] = data['Date'].dt.day\n",
    "data['hour'] = data['Date'].dt.hour"
   ]
  },
  {
   "cell_type": "code",
   "execution_count": 34,
   "metadata": {
    "collapsed": true
   },
   "outputs": [
    {
     "name": "stdout",
     "output_type": "stream",
     "text": [
      "                  Formatted Date Precip Type  Temperature (C)  Humidity  \\\n",
      "0  2006-04-01 00:00:00.000 +0200        rain         9.472222      0.89   \n",
      "1  2006-04-01 01:00:00.000 +0200        rain         9.355556      0.86   \n",
      "2  2006-04-01 02:00:00.000 +0200        rain         9.377778      0.89   \n",
      "3  2006-04-01 03:00:00.000 +0200        rain         8.288889      0.83   \n",
      "4  2006-04-01 04:00:00.000 +0200        rain         8.755556      0.83   \n",
      "\n",
      "   Wind Speed (km/h)  Wind Bearing (degrees)  Pressure (millibars)  \\\n",
      "0            14.1197                   251.0               1015.13   \n",
      "1            14.2646                   259.0               1015.63   \n",
      "2             3.9284                   204.0               1015.94   \n",
      "3            14.1036                   269.0               1016.41   \n",
      "4            11.0446                   259.0               1016.51   \n",
      "\n",
      "                       Date  year  month  day  hour  \n",
      "0 2006-03-31 22:00:00+00:00  2006      3   31    22  \n",
      "1 2006-03-31 23:00:00+00:00  2006      3   31    23  \n",
      "2 2006-04-01 00:00:00+00:00  2006      4    1     0  \n",
      "3 2006-04-01 01:00:00+00:00  2006      4    1     1  \n",
      "4 2006-04-01 02:00:00+00:00  2006      4    1     2  \n"
     ]
    }
   ],
   "source": [
    "print (data.head())"
   ]
  },
  {
   "cell_type": "code",
   "execution_count": 10,
   "metadata": {},
   "outputs": [
    {
     "data": {
      "image/png": "[encoded data removed]",
      "text/plain": [
       "<Figure size 432x288 with 1 Axes>"
      ]
     },
     "metadata": {
      "needs_background": "light"
     },
     "output_type": "display_data"
    }
   ],
   "source": [
    "# Average humidity by year\n",
    "\n",
    "year_humi = data.groupby(data.year).mean()\n",
    "month_humi = data.groupby(data.month).mean()\n",
    "\n",
    "\n",
    "#print(year_humi)\n",
    "plt.plot(year_humi['Humidity'])\n",
    "plt.ylabel('Humidity')\n",
    "plt.show()\n",
    "\n"
   ]
  },
  {
   "cell_type": "code",
   "execution_count": 56,
   "metadata": {},
   "outputs": [
    {
     "data": {
      "image/png": "[encoded data removed]",
      "text/plain": [
       "<Figure size 432x288 with 1 Axes>"
      ]
     },
     "metadata": {
      "needs_background": "light"
     },
     "output_type": "display_data"
    },
    {
     "data": {
      "image/png": "[encoded data removed]",
      "text/plain": [
       "<Figure size 432x288 with 1 Axes>"
      ]
     },
     "metadata": {
      "needs_background": "light"
     },
     "output_type": "display_data"
    }
   ],
   "source": [
    "plt.plot(year_humi['Temperature (C)'])\n",
    "plt.ylabel('Temperature (C)')\n",
    "plt.show()\n",
    "\n",
    "plt.plot(month_humi['Temperature (C)'])\n",
    "plt.ylabel('Temperature (C)')\n",
    "plt.show()\n",
    "\n"
   ]
  },
  {
   "cell_type": "code",
   "execution_count": 48,
   "metadata": {},
   "outputs": [
    {
     "data": {
      "image/png": "[encoded data removed]",
      "text/plain": [
       "<Figure size 432x288 with 1 Axes>"
      ]
     },
     "metadata": {
      "needs_background": "light"
     },
     "output_type": "display_data"
    }
   ],
   "source": [
    "plt.plot(year_humi['Wind Speed (km/h)'])\n",
    "plt.ylabel('Wind Speed (km/h)')\n",
    "plt.show()"
   ]
  },
  {
   "cell_type": "code",
   "execution_count": 19,
   "metadata": {},
   "outputs": [],
   "source": [
    "# Time series for temperature forecast\n",
    "\n",
    "from sklearn.preprocessing import MinMaxScaler\n",
    "\n",
    "new_Data = TrainData[['Date','Temperature (C)']]\n",
    "\n",
    "#new_Data = new_Data.astype('float32')\n",
    "#print(new_Data)\n",
    "\n",
    "#scaler= MinMaxScaler(feature_range=(-1,1))\n",
    "\n",
    "#sc = scaler.fit_transform(data)"
   ]
  },
  {
   "cell_type": "code",
   "execution_count": 20,
   "metadata": {},
   "outputs": [
    {
     "name": "stdout",
     "output_type": "stream",
     "text": [
      "Index(['Formatted Date', 'Precip Type', 'Temperature (C)', 'Humidity',\n",
      "       'Wind Speed (km/h)', 'Wind Bearing (degrees)', 'Pressure (millibars)',\n",
      "       'Date', 'year', 'month', 'day', 'hour'],\n",
      "      dtype='object')\n"
     ]
    }
   ],
   "source": [
    "print (TrainData.columns)"
   ]
  },
  {
   "cell_type": "code",
   "execution_count": null,
   "metadata": {},
   "outputs": [],
   "source": []
  }
 ],
 "metadata": {
  "kernelspec": {
   "display_name": "Python 3",
   "language": "python",
   "name": "python3"
  },
  "language_info": {
   "codemirror_mode": {
    "name": "ipython",
    "version": 3
   },
   "file_extension": ".py",
   "mimetype": "text/x-python",
   "name": "python",
   "nbconvert_exporter": "python",
   "pygments_lexer": "ipython3",
   "version": "3.7.6"
  }
 },
 "nbformat": 4,
 "nbformat_minor": 4
}
